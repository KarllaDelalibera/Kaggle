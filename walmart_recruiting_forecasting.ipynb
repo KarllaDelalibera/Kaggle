{
 "cells": [
  {
   "cell_type": "markdown",
   "metadata": {},
   "source": [
    "## Importação das libs utilizadas"
   ]
  },
  {
   "cell_type": "code",
   "execution_count": null,
   "metadata": {},
   "outputs": [],
   "source": [
    "import matplotlib.pyplot as plt\n",
    "import numpy as np\n",
    "import pandas as pd\n",
    "import seaborn as sns\n",
    "\n",
    "from sklearn.ensemble import ExtraTreesRegressor\n",
    "from sklearn.preprocessing import StandardScaler\n",
    "from statsmodels.tsa.stattools import adfuller"
   ]
  },
  {
   "cell_type": "markdown",
   "metadata": {},
   "source": [
    "## Importação das bases"
   ]
  },
  {
   "cell_type": "code",
   "execution_count": null,
   "metadata": {},
   "outputs": [],
   "source": [
    "PATH = '../input/walmart-recruiting-store-sales-forecasting/'\n",
    "\n",
    "stores = pd.read_csv(PATH + 'stores.csv')\n",
    "features = pd.read_csv(PATH + 'features.csv.zip', compression='zip')\n",
    "train = pd.read_csv(PATH + 'train.csv.zip', compression='zip')\n",
    "test = pd.read_csv(PATH + 'test.csv.zip', compression='zip')"
   ]
  },
  {
   "cell_type": "markdown",
   "metadata": {},
   "source": [
    "## Funções úteis \n",
    "\n",
    "O bloco abaixo apresenta algumas funções úteis que foram utilizadas no decorrer do código."
   ]
  },
  {
   "cell_type": "code",
   "execution_count": null,
   "metadata": {},
   "outputs": [],
   "source": [
    "def check_missing_values(df, value_percent=False):\n",
    "    '''\n",
    "    Função responsável por verificar\n",
    "    quantidade de missing values em \n",
    "    um dataframe.\n",
    "    Entrada: Dataframe.\n",
    "    Retorno: Dataframe.\n",
    "    '''\n",
    "    aux = df.isnull().sum().to_frame(name='qtde_missing')\n",
    "    if value_percent:\n",
    "        aux['perc_qtde_missing'] = aux['qtde_missing'].apply(lambda x: x/df.shape[0])\n",
    "    return aux\n",
    "\n",
    "\n",
    "\n",
    "def train_test_times_series(df, size_train):\n",
    "    '''\n",
    "    Função responsável por dividir uma base\n",
    "    em treino/teste respeitando a order da\n",
    "    serie.\n",
    "    Entrada: df->Dataframe, size_train->porcentagem da base de treino\n",
    "    Retorno: Dataframe\n",
    "    '''\n",
    "    \n",
    "    tamanho_base = len(df)\n",
    "    n_train = np.round(tamanho_base*size_train)\n",
    "    \n",
    "    treino = df.loc[0:n_train,:]\n",
    "    teste = df.loc[(n_train+1):tamanho_base,:]\n",
    "    return treino, teste\n"
   ]
  },
  {
   "cell_type": "markdown",
   "metadata": {},
   "source": [
    "## Explorando as bases de dados"
   ]
  },
  {
   "cell_type": "markdown",
   "metadata": {},
   "source": [
    "### Base de dados: Stores\n",
    "\n",
    "Nessa parte o objetivo é conhecer um pouco mais das lojas e responder algumas perguntas como:\n",
    "\n",
    "* Qual é a dimensão da base Store?\n",
    "* Alguma das variáveis que compõem a base Stores contém valores ausentes?\n",
    "* Quantas lojas são do Tipo A, B e C?\n",
    "* Em média quais são os tamanhos das lojas? Tenho alguma com tamanho negativo?"
   ]
  },
  {
   "cell_type": "code",
   "execution_count": null,
   "metadata": {},
   "outputs": [],
   "source": [
    "print('Qual é a dimensão da base Store?')\n",
    "print('Temos {row} linhas e {col} colunas!'.format(row=stores.shape[0], col=stores.shape[1]))"
   ]
  },
  {
   "cell_type": "code",
   "execution_count": null,
   "metadata": {},
   "outputs": [],
   "source": [
    "print('Alguma das variáveis que compõem a base Stores contém valores ausentes?')\n",
    "check_missing_values(df=stores, value_percent=True)"
   ]
  },
  {
   "cell_type": "code",
   "execution_count": null,
   "metadata": {},
   "outputs": [],
   "source": [
    "print('Quantas lojas são do tipo A, B e C ?')\n",
    "qtde_lojas_tipo = stores.groupby('Type', as_index=False)['Store'].count()\n",
    "qtde_lojas_tipo.rename(columns={\"Store\": \"Qtde_Stores\"}, inplace=True)\n",
    "qtde_lojas_tipo.head()"
   ]
  },
  {
   "cell_type": "code",
   "execution_count": null,
   "metadata": {},
   "outputs": [],
   "source": [
    "print('Em média quais são os tamanhos das lojas? Tenho alguma com tamanho negativo?')\n",
    "stores['Size'].describe().to_frame()"
   ]
  },
  {
   "cell_type": "markdown",
   "metadata": {},
   "source": [
    "### Base de dados: Features\n",
    "\n",
    "Nessa parte o objetivo é conhecer um pouco mais das lojas e responder algumas perguntas como:\n",
    "\n",
    "* Qual é a dimensão da base Fetures?\n",
    "* Alguma das variáveis que compõem a base Features contém valores ausentes?\n",
    "* Qual é o resumo estatístico de algumas variáveis?\n"
   ]
  },
  {
   "cell_type": "code",
   "execution_count": null,
   "metadata": {},
   "outputs": [],
   "source": [
    "print('Qual é a dimensão da base Fetures?')\n",
    "print('Temos {row} linhas e {col} colunas!'.format(row=features.shape[0], col=features.shape[1]))"
   ]
  },
  {
   "cell_type": "code",
   "execution_count": null,
   "metadata": {},
   "outputs": [],
   "source": [
    "print('Alguma das variáveis que compõem a base Features contém valores ausentes?')\n",
    "print('Pelo dataframe abaixo podemos peceber que mais de 50% da variável MarkDown 1-5 é representada por valores faltantes.')\n",
    "check_missing_values(df=features, value_percent=True)"
   ]
  },
  {
   "cell_type": "code",
   "execution_count": null,
   "metadata": {},
   "outputs": [],
   "source": [
    "print('Qual é o resumo estatístico de algumas variáveis?')\n",
    "features.iloc[:,2:].describe()"
   ]
  },
  {
   "cell_type": "markdown",
   "metadata": {},
   "source": [
    "### Base de dados: Train\n",
    "\n",
    "Nessa parte o objetivo é conhecer um pouco mais dos dados de train.\n",
    "\n",
    "* Qual é a dimensão da base Treino?\n",
    "* Alguma das variáveis que compõem a base Features contém valores ausentes?\n",
    "* Temos alguma venda negativa?\n",
    "* Quantos departamentos temos por loja?"
   ]
  },
  {
   "cell_type": "code",
   "execution_count": null,
   "metadata": {},
   "outputs": [],
   "source": [
    "print('Qual é a dimensão da base train?')\n",
    "print('Temos {row} linhas e {col} colunas!'.format(row=train.shape[0], col=train.shape[1]))"
   ]
  },
  {
   "cell_type": "code",
   "execution_count": null,
   "metadata": {},
   "outputs": [],
   "source": [
    "print('Alguma das variáveis que compõem a base train contém valores ausentes?')\n",
    "check_missing_values(df=train, value_percent=True)"
   ]
  },
  {
   "cell_type": "code",
   "execution_count": null,
   "metadata": {},
   "outputs": [],
   "source": [
    "print('Temos alguma venda negativa?')\n",
    "print('Pela dataframe abaixo, podemos peceber que existe vendas semanais com valores negativos.')\n",
    "train.iloc[:,3:].describe()"
   ]
  },
  {
   "cell_type": "code",
   "execution_count": null,
   "metadata": {},
   "outputs": [],
   "source": [
    "print('Quantos departamentos temos por loja?')\n",
    "train.groupby('Store')['Dept'].nunique().to_frame().head()"
   ]
  },
  {
   "cell_type": "markdown",
   "metadata": {},
   "source": [
    "### Base de dados: Test\n",
    "\n",
    "Nessa parte o objetivo é conhecer um pouco mais dos dados de test.\n",
    "\n",
    "* Qual é a dimensão da base Test?\n",
    "* Alguma das variáveis que compõem a base Features contém valores ausentes?"
   ]
  },
  {
   "cell_type": "code",
   "execution_count": null,
   "metadata": {},
   "outputs": [],
   "source": [
    "print('Qual é a dimensão da base test?')\n",
    "print('Temos {row} linhas e {col} colunas!'.format(row=test.shape[0], col=test.shape[1]))"
   ]
  },
  {
   "cell_type": "code",
   "execution_count": null,
   "metadata": {},
   "outputs": [],
   "source": [
    "print('Alguma das variáveis que compõem a base test contém valores ausentes?')\n",
    "check_missing_values(df=test, value_percent=True)"
   ]
  },
  {
   "cell_type": "markdown",
   "metadata": {},
   "source": [
    "## Construção da base ABT (Analytical Base Table)\n",
    "\n",
    "Após a pequena exploração nos dados, o próximo passo é a construção da nossa ABT. Isto é, a base que será usada para criação do modelo.\n",
    "\n",
    "Nessa parte iremos realizar algumas ações sobre os seguintes pontos:\n",
    "\n",
    "* Junção das bases\n",
    "* Valores missing na base Features\n",
    "* Valores negativos de vendas na base Train\n",
    "* Criação de novas variáveis e algumas transformações\n",
    "* Correlação entre as variáveis\n",
    "* Normalização dos dados\n",
    "* Verificação de estacionariedade nas séries"
   ]
  },
  {
   "cell_type": "markdown",
   "metadata": {},
   "source": [
    "### Junção das bases"
   ]
  },
  {
   "cell_type": "code",
   "execution_count": null,
   "metadata": {},
   "outputs": [],
   "source": [
    "train_full = train.merge(features, on=['Store', 'Date'], how='inner').merge(stores, on=['Store'], how='inner')\n",
    "train_full.drop(columns=['IsHoliday_y'], inplace=True)\n",
    "train_full.rename(columns={'IsHoliday_x':'IsHoliday'}, inplace=True)\n",
    "\n",
    "print('Temos {row} linhas e {col} colunas!'.format(row=train_full.shape[0], col=train_full.shape[1]))"
   ]
  },
  {
   "cell_type": "code",
   "execution_count": null,
   "metadata": {},
   "outputs": [],
   "source": [
    "test_full = test.merge(features, on=['Store', 'Date'], how='inner').merge(stores, on=['Store'], how='inner')\n",
    "test_full.drop(columns=['IsHoliday_y'], inplace=True)\n",
    "test_full.rename(columns={'IsHoliday_x':'IsHoliday'}, inplace=True)\n",
    "\n",
    "print('Temos {row} linhas e {col} colunas!'.format(row=test_full.shape[0], col=test_full.shape[1]))"
   ]
  },
  {
   "cell_type": "markdown",
   "metadata": {},
   "source": [
    "### Valores missing oriundos da base Features\n",
    "\n",
    "Como o percentual de valores missing nas variáveis MarkDown 1-5 são altos, não será realizado nenhum tratamento nelas, uma vez que elas serão desconsideras da base em um primeiro momento.\n",
    "\n",
    "Já as variáveis CPI e Unemployment utilizarei a mediana (agrupando por loja, pois cada loja percente a uma região) para imputação de dados."
   ]
  },
  {
   "cell_type": "code",
   "execution_count": null,
   "metadata": {},
   "outputs": [],
   "source": [
    "print('Removendo as variáveis MarkDown 1-5 da base train_abt e test_abt')\n",
    "train_full.drop(columns=['MarkDown1', 'MarkDown2', 'MarkDown3', 'MarkDown4','MarkDown5'], inplace=True)\n",
    "test_full.drop(columns=['MarkDown1', 'MarkDown2', 'MarkDown3', 'MarkDown4','MarkDown5'], inplace=True)"
   ]
  },
  {
   "cell_type": "code",
   "execution_count": null,
   "metadata": {},
   "outputs": [],
   "source": [
    "print('Aplicando a mediana como imputação de dados para as variáveis: CPI e Unemployment ')\n",
    "test_full['CPI'] = test_full['CPI'].fillna(test_full.groupby('Store')['CPI'].transform('median'))\n",
    "test_full['Unemployment'] = test_full['Unemployment'].fillna(test_full.groupby('Store')['Unemployment'].transform('median'))"
   ]
  },
  {
   "cell_type": "code",
   "execution_count": null,
   "metadata": {},
   "outputs": [],
   "source": [
    "print('Verificando novamente se temos valores ausentes na base train')\n",
    "check_missing_values(df=train_full, value_percent=True)"
   ]
  },
  {
   "cell_type": "code",
   "execution_count": null,
   "metadata": {},
   "outputs": [],
   "source": [
    "print('Verificando novamente se temos valores ausentes na base test')\n",
    "check_missing_values(df=test_full, value_percent=True)"
   ]
  },
  {
   "cell_type": "markdown",
   "metadata": {},
   "source": [
    "### Valores negativos de vendas na base Train\n",
    "\n",
    "Para tratar o problema de vendas semanais negativas, resolvi trabalhar com faixas de intevalos. Sei que essas vendas não podem ser negativas, então o intervalo para a variável Weekly_Sales seria de 0 até a maior venda.\n",
    "\n",
    "Como descrito na documentação do numpy: Dado um intervalo, os valores fora do intervalo são cortados nas bordas do intervalo. Por exemplo, se um intervalo de for especificado ([0,1]), valores menores que 0 se tornarão 0 e valores maiores que 1 se tornarão 1.\n",
    "\n",
    "https://numpy.org/doc/stable/reference/generated/numpy.clip.html"
   ]
  },
  {
   "cell_type": "code",
   "execution_count": null,
   "metadata": {},
   "outputs": [],
   "source": [
    "print('Aplicando tratamento de valores negativos na base')\n",
    "train_full['Weekly_Sales'] = train_full.Weekly_Sales.clip(0, train_full.Weekly_Sales.max())"
   ]
  },
  {
   "cell_type": "markdown",
   "metadata": {},
   "source": [
    "É importante ressaltar que substituir por zero as vendas negativas não é uma boa prática. Uma outra ação (que demandariam mais tempo) que poderia ser aplicada é: devsenvolver um modelo de ML para realizar uma inputação de dados."
   ]
  },
  {
   "cell_type": "markdown",
   "metadata": {},
   "source": [
    "### Criação de novas variáveis e alguns transformações\n",
    "\n",
    "Nessa parte, será criado uma variável a partir de outra variável já existente, e transformaremos algumas variáveis categoricas em númericas. \n",
    "\n",
    "* Criaremos uma variável referente ao dia da semana, a partir da variável Date.\n",
    "\n",
    "Segundo a documentação do pandas: Segunda-feira = 0, domingo = 6.\n",
    "\n",
    "https://pandas.pydata.org/pandas-docs/stable/reference/api/pandas.DatetimeIndex.dayofweek.html\n",
    "\n",
    "* Transformação das variáveis IsHoliday e Type em númericas"
   ]
  },
  {
   "cell_type": "code",
   "execution_count": null,
   "metadata": {},
   "outputs": [],
   "source": [
    "print('Transformando a variável Date em datetime')\n",
    "train_full['Date'] = pd.to_datetime(train_full['Date'])\n",
    "test_full ['Date'] = pd.to_datetime(test_full['Date'])\n",
    "\n",
    "print('Criação da variavel dia da semana')\n",
    "\n",
    "train_full['day_of_week'] = train_full['Date'].dt.dayofweek\n",
    "test_full['day_of_week'] = test_full['Date'].dt.dayofweek"
   ]
  },
  {
   "cell_type": "code",
   "execution_count": null,
   "metadata": {},
   "outputs": [],
   "source": [
    "print('Transformação das variáveis IsHoliday e Type em númericas')\n",
    "\n",
    "train_full = pd.get_dummies(train_full, columns=['Type'])\n",
    "train_full['IsHoliday'] = train_full['IsHoliday'].astype(int)\n",
    "\n",
    "\n",
    "test_full = pd.get_dummies(test_full, columns=['Type'])\n",
    "test_full['IsHoliday'] = test_full['IsHoliday'].astype(int)"
   ]
  },
  {
   "cell_type": "markdown",
   "metadata": {},
   "source": [
    "### Correlação entre as variáveis\n",
    "\n",
    "Apresentaremos uma matriz de correlação para verificar se existe alguma correlação entre as variáveis da base de treino.\n",
    "Essa etapa é de grande valia, uma vez que usar variáveis altamente correlacionados acaba não fazendo sentido, pois teremos uma ou mais variáveis fornecendo as mesmas informações quando inseridos em um modelo de previsão. \n",
    "\n",
    "Sendo assim, é importante identificar essa correlação e se necessário remover algumas variáveis.\n",
    "\n",
    "* Interpretação da correlação\n",
    "\n",
    " * Um valor próximo de +1 indica: um alto grau de associação entre as duas variáveis. Isto é, a medida que uma variável cresce a outra cresce também.\n",
    " \n",
    " * Um valor próximo de -1 indica: um alto grau de associação entre as duas variáveis. Isto é, a medida que uma variável cresce a outra decresce.\n",
    " \n",
    " * Um valor próximo a 0 indica: uma fraca ou ausente associação entre as variáveis.\n",
    " \n",
    "* Para o cálculo da correção utilizarei o método de Sperman (não parámetrico), uma vez que o método usual de Pearson tem como pressuposto normalidade dos dados. "
   ]
  },
  {
   "cell_type": "code",
   "execution_count": null,
   "metadata": {},
   "outputs": [],
   "source": [
    "# Filtrando apenas as variáveis quantitativas\n",
    "variaveis_corr = ['Weekly_Sales', 'Temperature','Fuel_Price', 'CPI', 'Unemployment', 'Size']\n",
    "correlacao_train_full = train_full[variaveis_corr].corr(method = 'spearman')\n",
    "plt.figure(figsize=(15, 10))\n",
    "sns.heatmap(correlacao_train_full, annot=True)\n",
    "plt.plot()"
   ]
  },
  {
   "cell_type": "markdown",
   "metadata": {},
   "source": [
    "A princípio nenhuma variável precisará ser removida."
   ]
  },
  {
   "cell_type": "markdown",
   "metadata": {},
   "source": [
    "### Normalização dos dados\n",
    "\n",
    "Será aplicado a normalização em algumas variáveis da base para corrigir problemas de escalas diferentes e também para uma melhor performance do modelo."
   ]
  },
  {
   "cell_type": "code",
   "execution_count": null,
   "metadata": {},
   "outputs": [],
   "source": [
    "colunas_trans_scaler = ['Temperature','Fuel_Price', 'CPI', 'Unemployment', 'Size']\n",
    "trans_scaler = StandardScaler().fit(train_full[colunas_trans_scaler])\n",
    "\n",
    "train_full[colunas_trans_scaler] = trans_scaler.transform(train_full[colunas_trans_scaler])\n",
    "test_full[colunas_trans_scaler] = trans_scaler.transform(test_full[colunas_trans_scaler])"
   ]
  },
  {
   "cell_type": "markdown",
   "metadata": {},
   "source": [
    "### Verificação de estacionariedade nas séries\n",
    "\n",
    "Por definição, uma série é definida como estacionária quando ela se desenvolve no tempo aleatoriamente ao redor de uma média constante. (Veja http://www.portalaction.com.br/series-temporais/11-estacionariedade#:~:text=Uma%20s%C3%A9rie%20temporal%20%C3%A9%20dita,estacionariedade%2C%20por%20exemplo%2C%20tend%C3%AAncia.)\n",
    "Isto é, as propriedas estatísticas da série não mudam conforme o tempo.\n",
    "\n",
    "Isso é importante ser verificado, pois caso a série não seja estacionária e abordarmos um modelos de séries temporais (ex: ARIMA, SARIMAX) um dos pressupostos desses modelos é que a série seja estacionária.\n",
    "\n",
    "Como também, se abordarmos modelos de Machine Leaning, ter uma série estacionária poderá resultar em um melhor desempenho do modelo.\n",
    "\n",
    "Para verificação da estacionariedade das séries, utilizaremos o teste de Raíz unitária (teste de Dickey-Fuller). O teste tem como hipótese nula que os dados não são estacionários. Considerando um nível de confiança de 95%, temos que:\n",
    "\n",
    " * Se o p-valor do teste for maior que 0.05 não rejeitamos a hipótese nula, isto é, a série é não estacionária.\n",
    " * Se o p-valor do teste for menor que 0.05 rejeitamos a hipótese nula, isto é, a série é estacionária."
   ]
  },
  {
   "cell_type": "code",
   "execution_count": null,
   "metadata": {},
   "outputs": [],
   "source": [
    "store_dept = []\n",
    "for i in range(0,len(list(train_full['Store'].unique()))):\n",
    "    for j in list(train_full.loc[train_full.Store == i, 'Dept'].unique()):\n",
    "        aux = train_full.loc[(train_full.Store == i) & (train_full.Dept == j)]\n",
    "        try:\n",
    "            p_value = adfuller(aux.Weekly_Sales)[1]\n",
    "            if p_value > 0.05:\n",
    "                store_dept.append((i,j, p_value))\n",
    "        except:\n",
    "            continue"
   ]
  },
  {
   "cell_type": "code",
   "execution_count": null,
   "metadata": {},
   "outputs": [],
   "source": [
    "# df_serie_nestac são as séries não estacionárias segundo teste da Raíz unitária \n",
    "\n",
    "df_serie_nestac = pd.DataFrame(store_dept, columns = ['store','dept','p_value'])\n",
    "df_serie_nestac['chave'] = df_serie_nestac['store'].astype(str) + '_' + df_serie_nestac['dept'].astype(str)"
   ]
  },
  {
   "cell_type": "code",
   "execution_count": null,
   "metadata": {},
   "outputs": [],
   "source": [
    "df_serie_nestac.head()"
   ]
  },
  {
   "cell_type": "markdown",
   "metadata": {},
   "source": [
    "Pelo dataframe acima (df_serie_nestac), podemos ver que algumas séries não satisfazem a propriedade de estacionariedade.\n",
    "\n",
    "Inicialmente vou modelar a série sem nenhuma tratativa para esse problema, a fim de verificarmos se o modelo de ML conseguirá modelar essas tendências (sazonais ou não).\n",
    "\n",
    "Em um segundo momento, podemos testar dois modelos de ML dividindo as séries em dois grandes grupos: as que são estacionárias e as que não são estacionárias.\n",
    "\n",
    "O objetivo ao propor esse \"agrupamento\" de séries, é modelar separamente as séries que possuem características semelhantes."
   ]
  },
  {
   "cell_type": "markdown",
   "metadata": {},
   "source": [
    "## Modelagem - Considerando todos as séries\n",
    "\n",
    "Construindo nossa ABT"
   ]
  },
  {
   "cell_type": "code",
   "execution_count": null,
   "metadata": {},
   "outputs": [],
   "source": [
    "# Não consideraremos Type_A,Type_B e Type_C, uma vez que eles já estão representados na variável Size\n",
    "\n",
    "features_abt = ['Store', 'Dept', 'Date', 'Weekly_Sales', 'IsHoliday', 'Temperature', \n",
    "                'Fuel_Price', 'CPI', 'Unemployment', 'Size', 'day_of_week']\n",
    "\n",
    "train_abt = train_full[features_abt]"
   ]
  },
  {
   "cell_type": "markdown",
   "metadata": {},
   "source": [
    "### Divisão da base em treino e teste para validação da qualidade do modelo\n",
    "\n",
    "Um ponto importante quando trabalhamos com modelagem, é obtermos algumas medidas para verificarmos a precisão de um modelo, isto é, medidas que podem nos ajudar a verificar o quão bom é um modelo. \n",
    "\n",
    "Geralmente para obtermos esses tipos de medidas precisamos dos valores previstos pelo modelo e dos valores reais observados. Com base nisso, uma maneira de obtermos essas medidas é dividirmos a série de dados em bases de treinamento e teste, respeitando a ordem da série (para modelos temporais). Assim, o modelo pode ser construído no conjunto de dados de treinamento e as previsões podem ser feitas e avaliadas no conjunto de dados de teste.\n",
    "\n",
    "Essa divisão pode ser feita selecionando um ponto de divisão arbitrário na série de observações e criando dois novos conjuntos de dados. Assim, se tivermos uma série de 100 observações podemos usar uma divisão do tipo: 70 a 30. Em que as 70 primeiras observações faram parte do conjunto de dados de treinamento e as 30 seguintes observações faram parte do conjunto de dados de teste. "
   ]
  },
  {
   "cell_type": "markdown",
   "metadata": {},
   "source": [
    "### Modelando"
   ]
  },
  {
   "cell_type": "code",
   "execution_count": null,
   "metadata": {},
   "outputs": [],
   "source": [
    "train_abt_sort = train_abt.sort_values(by=['Store','Dept','Date']).reset_index(drop=True)"
   ]
  },
  {
   "cell_type": "markdown",
   "metadata": {},
   "source": [
    "Para este problema, dividirei a base em 90% para treino do modelo e 10% para teste. Isto é, 90% dos primeiros valores da série ordenada será para treinamento e os 10% restantes será para teste."
   ]
  },
  {
   "cell_type": "code",
   "execution_count": null,
   "metadata": {},
   "outputs": [],
   "source": [
    "treino, teste = train_test_times_series(train_abt_sort, 0.90)"
   ]
  },
  {
   "cell_type": "code",
   "execution_count": null,
   "metadata": {},
   "outputs": [],
   "source": [
    "print('Dimensão da base de treino é {shape}'.format(shape=treino.shape))"
   ]
  },
  {
   "cell_type": "code",
   "execution_count": null,
   "metadata": {},
   "outputs": [],
   "source": [
    "print('Dimensão da base de teste é {shape}'.format(shape=teste.shape))"
   ]
  },
  {
   "cell_type": "code",
   "execution_count": null,
   "metadata": {},
   "outputs": [],
   "source": [
    "features = ['Store', 'Dept', 'IsHoliday', 'Temperature',\n",
    "           'Fuel_Price', 'CPI', 'Unemployment', 'Size', 'day_of_week']\n",
    "\n",
    "target = 'Weekly_Sales'"
   ]
  },
  {
   "cell_type": "code",
   "execution_count": null,
   "metadata": {},
   "outputs": [],
   "source": [
    "X_train, X_test = treino[features], teste[features]\n",
    "y_train, y_test = treino[target], teste[target]"
   ]
  },
  {
   "cell_type": "markdown",
   "metadata": {},
   "source": [
    "### Modelo considerado: ExtraTreesRegressor\n"
   ]
  },
  {
   "cell_type": "code",
   "execution_count": null,
   "metadata": {},
   "outputs": [],
   "source": [
    "etr = ExtraTreesRegressor(n_estimators=100, random_state=42)\n",
    "etr.fit(X_train, y_train)\n",
    "print('O R² da ExtraTreesRegressor na base teste foi de: {0:.2f}'.format(etr.score(X_test, y_test)))"
   ]
  },
  {
   "cell_type": "markdown",
   "metadata": {},
   "source": [
    "## Modelagem - Considerando dois grupos de séries\n",
    "\n",
    "Construindo nossa ABT levando em considerando dois grandes grupos: séries estacionárias e séries não estacionárias"
   ]
  },
  {
   "cell_type": "markdown",
   "metadata": {},
   "source": [
    "Nessa parte dividimos a base de treino em dois grandes grupos: as que são estacionárias (series_estac) e as que não são (series_n_estac)."
   ]
  },
  {
   "cell_type": "code",
   "execution_count": null,
   "metadata": {},
   "outputs": [],
   "source": [
    "train_full['chave'] = train_full['Store'].astype(str) + '_' + train_full['Dept'].astype(str)"
   ]
  },
  {
   "cell_type": "code",
   "execution_count": null,
   "metadata": {},
   "outputs": [],
   "source": [
    "series_estac = train_full.loc[~train_full.chave.isin(df_serie_nestac['chave'])]\n",
    "\n",
    "series_n_estac = train_full.loc[train_full.chave.isin(df_serie_nestac['chave'])]"
   ]
  },
  {
   "cell_type": "markdown",
   "metadata": {},
   "source": [
    "Construindo nossa ABT tanto para as séries estacionárias quanto para as não estacionárias"
   ]
  },
  {
   "cell_type": "code",
   "execution_count": null,
   "metadata": {},
   "outputs": [],
   "source": [
    "features_abt = ['Store', 'Dept', 'Date', 'Weekly_Sales', 'IsHoliday', 'Temperature', \n",
    "                'Fuel_Price', 'CPI', 'Unemployment', 'Size', 'day_of_week']\n",
    "\n",
    "train_abt_est = series_estac[features_abt]\n",
    "train_abt_n_est = series_n_estac[features_abt]"
   ]
  },
  {
   "cell_type": "markdown",
   "metadata": {},
   "source": [
    "### Modelando as séries estacionárias"
   ]
  },
  {
   "cell_type": "code",
   "execution_count": null,
   "metadata": {},
   "outputs": [],
   "source": [
    "train_abt_est_sort = train_abt_est.sort_values(by=['Store','Dept','Date']).reset_index(drop=True)"
   ]
  },
  {
   "cell_type": "code",
   "execution_count": null,
   "metadata": {},
   "outputs": [],
   "source": [
    "treino_est, teste_est = train_test_times_series(train_abt_est_sort, 0.90)"
   ]
  },
  {
   "cell_type": "code",
   "execution_count": null,
   "metadata": {},
   "outputs": [],
   "source": [
    "features = ['Store', 'Dept', 'IsHoliday', 'Temperature',\n",
    "           'Fuel_Price', 'CPI', 'Unemployment', 'Size', 'day_of_week']\n",
    "\n",
    "target = 'Weekly_Sales'"
   ]
  },
  {
   "cell_type": "code",
   "execution_count": null,
   "metadata": {},
   "outputs": [],
   "source": [
    "X_train_est, X_test_est = treino_est[features], teste_est[features]\n",
    "y_train_est, y_test_est = treino_est[target], teste_est[target]"
   ]
  },
  {
   "cell_type": "code",
   "execution_count": null,
   "metadata": {},
   "outputs": [],
   "source": [
    "etr_est = ExtraTreesRegressor(n_estimators=100, random_state=42)\n",
    "etr_est.fit(X_train_est, y_train_est)\n",
    "print('O R² da ExtraTreesRegressor na base teste foi de: {0:.2f}'.format(etr_est.score(X_test_est, y_test_est)))"
   ]
  },
  {
   "cell_type": "markdown",
   "metadata": {},
   "source": [
    "### Modelando as séries não estacionárias"
   ]
  },
  {
   "cell_type": "code",
   "execution_count": null,
   "metadata": {},
   "outputs": [],
   "source": [
    "train_abt_nest_sort = train_abt_n_est.sort_values(by=['Store','Dept','Date']).reset_index(drop=True)"
   ]
  },
  {
   "cell_type": "code",
   "execution_count": null,
   "metadata": {},
   "outputs": [],
   "source": [
    "# Aplicando a diferenciação de ordem 1\n",
    "\n",
    "train_abt_nest_sort.loc[:,'diff_Weekly_Sales'] = train_abt_nest_sort.groupby(['Store','Dept'])['Weekly_Sales'].diff(1)"
   ]
  },
  {
   "cell_type": "code",
   "execution_count": null,
   "metadata": {},
   "outputs": [],
   "source": [
    "train_abt_nest_sort.dropna(inplace=True)"
   ]
  },
  {
   "cell_type": "code",
   "execution_count": null,
   "metadata": {},
   "outputs": [],
   "source": [
    "treino_nest, teste_nest = train_test_times_series(train_abt_nest_sort, 0.90)"
   ]
  },
  {
   "cell_type": "code",
   "execution_count": null,
   "metadata": {},
   "outputs": [],
   "source": [
    "features = ['Store', 'Dept', 'IsHoliday', 'Temperature',\n",
    "            'Fuel_Price', 'CPI', 'Unemployment', 'Size', 'day_of_week']\n",
    "\n",
    "target = 'diff_Weekly_Sales'"
   ]
  },
  {
   "cell_type": "code",
   "execution_count": null,
   "metadata": {},
   "outputs": [],
   "source": [
    "X_train_nest, X_test_nest = treino_nest[features], teste_nest[features]\n",
    "y_train_nest, y_test_nest = treino_nest[target], teste_nest[target]"
   ]
  },
  {
   "cell_type": "code",
   "execution_count": null,
   "metadata": {},
   "outputs": [],
   "source": [
    "etr_nest = ExtraTreesRegressor(n_estimators=100, random_state=42)\n",
    "\n",
    "etr_nest.fit(X_train_nest, y_train_nest)\n",
    "print('O R² da ExtraTreesRegressor na base teste foi de: {0:.2f}'.format(etr_nest.score(X_test_nest, y_test_nest)))"
   ]
  },
  {
   "cell_type": "markdown",
   "metadata": {},
   "source": [
    "## Modelo final\n",
    "\n",
    "Comparando os resultados obtidos, podemos perceber que a primeira versão de modelagem (Considerando todos as séries) apresentou um melhor desempenho (um R² de 0,86).\n",
    "\n",
    "Podemos perceber também que o R² obtido na modelagem das séries não estacionárias foi bem baixo. Uma hipótese que surge, é que provavelmente a tendência presente nas séries pode ser explicada pelas variáveis.\n",
    "\n",
    "\n",
    "Modelagem escolhida: Modelagem - Considerando todos as séries\n",
    "\n",
    "\n",
    "Próximos passos:\n",
    "\n",
    "* Treinar novamente o modelo considerando a base train completamente (sem divisão treino/teste)\n",
    "* Aplicar o modelo na base test"
   ]
  },
  {
   "cell_type": "code",
   "execution_count": null,
   "metadata": {},
   "outputs": [],
   "source": [
    "features = ['Store', 'Dept', 'IsHoliday', 'Temperature',\n",
    "            'Fuel_Price', 'CPI', 'Unemployment', 'Size', 'day_of_week']\n",
    "\n",
    "target = 'Weekly_Sales'"
   ]
  },
  {
   "cell_type": "code",
   "execution_count": null,
   "metadata": {},
   "outputs": [],
   "source": [
    "X, y = train_abt_sort[features], train_abt_sort[target]\n",
    "\n",
    "etr_model = ExtraTreesRegressor(n_estimators=100, random_state=42)\n",
    "etr_model.fit(X, y)"
   ]
  },
  {
   "cell_type": "code",
   "execution_count": null,
   "metadata": {},
   "outputs": [],
   "source": [
    "features_test_abt = ['Store', 'Dept', 'Date', 'IsHoliday', 'Temperature', \n",
    "                     'Fuel_Price', 'CPI', 'Unemployment', 'Size', 'day_of_week']\n",
    "\n",
    "test_abt = test_full[features_test_abt]"
   ]
  },
  {
   "cell_type": "code",
   "execution_count": null,
   "metadata": {},
   "outputs": [],
   "source": [
    "test_abt_sort = test_abt.sort_values(['Store','Dept','Date']).reset_index(drop=True)"
   ]
  },
  {
   "cell_type": "code",
   "execution_count": null,
   "metadata": {},
   "outputs": [],
   "source": [
    "test_abt_sort['pred_ETR'] = etr_model.predict(test_abt_sort[features])"
   ]
  },
  {
   "cell_type": "code",
   "execution_count": null,
   "metadata": {},
   "outputs": [],
   "source": [
    "test_abt_sort.shape"
   ]
  },
  {
   "cell_type": "markdown",
   "metadata": {},
   "source": [
    "## Submission"
   ]
  },
  {
   "cell_type": "code",
   "execution_count": null,
   "metadata": {},
   "outputs": [],
   "source": [
    "submission = pd.DataFrame()"
   ]
  },
  {
   "cell_type": "code",
   "execution_count": null,
   "metadata": {},
   "outputs": [],
   "source": [
    "submission['Id'] = test_abt_sort['Store'].astype(str) + '_' + test_abt_sort['Dept'].astype(str) + '_' + test_abt_sort['Date'].astype(str)"
   ]
  },
  {
   "cell_type": "code",
   "execution_count": null,
   "metadata": {},
   "outputs": [],
   "source": [
    "submission['Weekly_Sales'] = test_abt_sort['pred_ETR']"
   ]
  },
  {
   "cell_type": "code",
   "execution_count": null,
   "metadata": {},
   "outputs": [],
   "source": [
    "submission.to_csv('submission.csv', index=False)"
   ]
  }
 ],
 "metadata": {
  "kernelspec": {
   "display_name": "Python 3",
   "language": "python",
   "name": "python3"
  },
  "language_info": {
   "codemirror_mode": {
    "name": "ipython",
    "version": 3
   },
   "file_extension": ".py",
   "mimetype": "text/x-python",
   "name": "python",
   "nbconvert_exporter": "python",
   "pygments_lexer": "ipython3",
   "version": "3.8.3"
  }
 },
 "nbformat": 4,
 "nbformat_minor": 4
}
